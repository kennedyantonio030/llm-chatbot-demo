{
 "cells": [
  {
   "cell_type": "code",
   "execution_count": 1,
   "metadata": {},
   "outputs": [],
   "source": [
    "# %pip install --upgrade --quiet  gpt4all > /dev/null"
   ]
  },
  {
   "cell_type": "code",
   "execution_count": 2,
   "metadata": {},
   "outputs": [],
   "source": [
    "from pprint import pprint\n",
    "from langchain.callbacks.streaming_stdout import StreamingStdOutCallbackHandler\n",
    "from langchain.chains import LLMChain\n",
    "from langchain.prompts import PromptTemplate\n",
    "from langchain_community.llms import GPT4All"
   ]
  },
  {
   "cell_type": "code",
   "execution_count": 3,
   "metadata": {},
   "outputs": [
    {
     "data": {
      "text/plain": [
       "'Question: What was the average rainfall in 1909 in Nebraska\\n\\nAnswer: '"
      ]
     },
     "execution_count": 3,
     "metadata": {},
     "output_type": "execute_result"
    }
   ],
   "source": [
    "template = \"\"\"Question: {question}\n",
    "\n",
    "Answer: \"\"\"\n",
    "\n",
    "prompt = PromptTemplate(template=template, input_variables=[\"question\"])\n",
    "\n",
    "prompt.format(question=\"What was the average rainfall in 1909 in Nebraska\")"
   ]
  },
  {
   "cell_type": "code",
   "execution_count": 4,
   "metadata": {},
   "outputs": [],
   "source": [
    "local_path = (\n",
    "    \"/Users/brianroepke/Library/Application Support/nomic.ai/GPT4All/mistral-7b-openorca.Q4_0.gguf\"\n",
    ")"
   ]
  },
  {
   "cell_type": "code",
   "execution_count": 5,
   "metadata": {},
   "outputs": [],
   "source": [
    "# local_path = (\n",
    "#     \"/Users/brianroepke/Library/Application Support/nomic.ai/GPT4All/mistral-7b-instruct-v0.1.Q4_0.gguf\"\n",
    "# )"
   ]
  },
  {
   "cell_type": "code",
   "execution_count": 6,
   "metadata": {},
   "outputs": [],
   "source": [
    "# Callbacks support token-wise streaming\n",
    "callbacks = [StreamingStdOutCallbackHandler()]\n",
    "\n",
    "# Verbose is required to pass to the callback manager\n",
    "llm = GPT4All(model=local_path, callbacks=callbacks, verbose=True)\n",
    "\n",
    "# If you want to use a custom model add the backend parameter\n",
    "# Check https://docs.gpt4all.io/gpt4all_python.html for supported backends\n",
    "# llm = GPT4All(model=local_path, backend=\"gptj\", callbacks=callbacks, verbose=True)"
   ]
  },
  {
   "cell_type": "code",
   "execution_count": 7,
   "metadata": {},
   "outputs": [],
   "source": [
    "llm_chain = LLMChain(prompt=prompt, llm=llm)"
   ]
  },
  {
   "cell_type": "code",
   "execution_count": 9,
   "metadata": {},
   "outputs": [
    {
     "name": "stdout",
     "output_type": "stream",
     "text": [
      "√2 = 1.4142135623730951\n",
      "\n",
      "Explanation: The square root of a number n, denoted as √n, is a value that when multiplied by itself gives the original number. In this case, we are looking for the value which, when squared (multiplied by itself), equals 2. This can be found using trial and error or through more advanced mathematical methods.\n",
      "\n",
      "In this specific example, the square root of 2 is approximately equal to 1.4142135623730951. This means that when you multiply 1.4142135623730951 by itself, you get a value close enough to 2 for practical purposes.\n",
      "\n",
      "It is important to note that the exact decimal representation of the square root of 2 is an irrational number, which means it cannot be expressed as a simple fraction or terminating decimal. However, we can approximate its value using decimals or fractions like this one."
     ]
    },
    {
     "data": {
      "text/plain": [
       "{'question': 'What is the square root of 2?',\n",
       " 'text': '√2 = 1.4142135623730951\\n\\nExplanation: The square root of a number n, denoted as √n, is a value that when multiplied by itself gives the original number. In this case, we are looking for the value which, when squared (multiplied by itself), equals 2. This can be found using trial and error or through more advanced mathematical methods.\\n\\nIn this specific example, the square root of 2 is approximately equal to 1.4142135623730951. This means that when you multiply 1.4142135623730951 by itself, you get a value close enough to 2 for practical purposes.\\n\\nIt is important to note that the exact decimal representation of the square root of 2 is an irrational number, which means it cannot be expressed as a simple fraction or terminating decimal. However, we can approximate its value using decimals or fractions like this one.'}"
      ]
     },
     "execution_count": 9,
     "metadata": {},
     "output_type": "execute_result"
    }
   ],
   "source": [
    "question = \"What is the square root of 2?\"\n",
    "\n",
    "results = llm_chain.invoke(question)\n",
    "\n",
    "results"
   ]
  },
  {
   "cell_type": "code",
   "execution_count": 11,
   "metadata": {},
   "outputs": [
    {
     "data": {
      "text/plain": [
       "'√2 = 1.4142135623730951\\n\\nExplanation: The square root of a number n, denoted as √n, is a value that when multiplied by itself gives the original number. In this case, we are looking for the value which, when squared (multiplied by itself), equals 2. This can be found using trial and error or through more advanced mathematical methods.\\n\\nIn this specific example, the square root of 2 is approximately equal to 1.4142135623730951. This means that when you multiply 1.4142135623730951 by itself, you get a value close enough to 2 for practical purposes.\\n\\nIt is important to note that the exact decimal representation of the square root of 2 is an irrational number, which means it cannot be expressed as a simple fraction or terminating decimal. However, we can approximate its value using decimals or fractions like this one.'"
      ]
     },
     "execution_count": 11,
     "metadata": {},
     "output_type": "execute_result"
    }
   ],
   "source": [
    "results[\"text\"]"
   ]
  },
  {
   "cell_type": "code",
   "execution_count": null,
   "metadata": {},
   "outputs": [],
   "source": []
  }
 ],
 "metadata": {
  "kernelspec": {
   "display_name": "venv",
   "language": "python",
   "name": "python3"
  },
  "language_info": {
   "codemirror_mode": {
    "name": "ipython",
    "version": 3
   },
   "file_extension": ".py",
   "mimetype": "text/x-python",
   "name": "python",
   "nbconvert_exporter": "python",
   "pygments_lexer": "ipython3",
   "version": "3.11.6"
  }
 },
 "nbformat": 4,
 "nbformat_minor": 2
}
