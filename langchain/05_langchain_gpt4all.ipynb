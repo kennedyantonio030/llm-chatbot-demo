{
 "cells": [
  {
   "cell_type": "code",
   "execution_count": 1,
   "metadata": {},
   "outputs": [],
   "source": [
    "# %pip install --upgrade --quiet  gpt4all > /dev/null"
   ]
  },
  {
   "cell_type": "code",
   "execution_count": 2,
   "metadata": {},
   "outputs": [],
   "source": [
    "from pprint import pprint\n",
    "from langchain.callbacks.streaming_stdout import StreamingStdOutCallbackHandler\n",
    "from langchain.chains import LLMChain\n",
    "from langchain.prompts import PromptTemplate\n",
    "from langchain_community.llms import GPT4All"
   ]
  },
  {
   "cell_type": "code",
   "execution_count": 3,
   "metadata": {},
   "outputs": [
    {
     "data": {
      "text/plain": [
       "'Question: What was the average rainfall in 1909 in Nebraska\\n\\nAnswer: '"
      ]
     },
     "execution_count": 3,
     "metadata": {},
     "output_type": "execute_result"
    }
   ],
   "source": [
    "template = \"\"\"Question: {question}\n",
    "\n",
    "Answer: \"\"\"\n",
    "\n",
    "prompt = PromptTemplate(template=template, input_variables=[\"question\"])\n",
    "\n",
    "prompt.format(question=\"What was the average rainfall in 1909 in Nebraska\")"
   ]
  },
  {
   "cell_type": "code",
   "execution_count": 4,
   "metadata": {},
   "outputs": [],
   "source": [
    "local_path = (\n",
    "    \"/Users/brianroepke/Library/Application Support/nomic.ai/GPT4All/mistral-7b-openorca.Q4_0.gguf\"\n",
    ")"
   ]
  },
  {
   "cell_type": "code",
   "execution_count": 5,
   "metadata": {},
   "outputs": [],
   "source": [
    "# Callbacks support token-wise streaming\n",
    "callbacks = [StreamingStdOutCallbackHandler()]\n",
    "\n",
    "# Verbose is required to pass to the callback manager\n",
    "llm = GPT4All(model=local_path, callbacks=callbacks, verbose=True)\n",
    "\n",
    "# If you want to use a custom model add the backend parameter\n",
    "# Check https://docs.gpt4all.io/gpt4all_python.html for supported backends\n",
    "# llm = GPT4All(model=local_path, backend=\"gptj\", callbacks=callbacks, verbose=True)"
   ]
  },
  {
   "cell_type": "code",
   "execution_count": 6,
   "metadata": {},
   "outputs": [],
   "source": [
    "llm_chain = LLMChain(prompt=prompt, llm=llm)"
   ]
  },
  {
   "cell_type": "code",
   "execution_count": 7,
   "metadata": {},
   "outputs": [
    {
     "name": "stdout",
     "output_type": "stream",
     "text": [
      "\n",
      "The last ten World Series winners are as follows:\n",
      "\n",
      "2019 - Washington Nationals (National League) defeated Houston Astros (American League)\n",
      "2018 - Boston Red Sox (American League) defeated Los Angeles Dodgers (National League)\n",
      "2017 - Houston Astros (American League) defeated Los Angeles Dodgers (National League)\n",
      "2016 - Chicago Cubs (National League) defeated Cleveland Indians (American League)\n",
      "2015 - Kansas City Royals (American League) defeated New York Mets (National League)\n",
      "2014 - San Francisco Giants (National League) defeated Kansas City Royals (American League)\n",
      "2013 - Boston Red Sox (American League) defeated St. Louis Cardinals (National League)\n",
      "2012 - San Francisco Giants (National League) defeated Detroit Tigers (American League)\n",
      "2011 - St. Louis Cardinals (National League) defeated Texas Rangers (American League)\n",
      "2010 - San Francisco Giants (National League) defeated Texas Rangers (American League)\n",
      "\n",
      "Please note that the years are in reverse order, with 2019 being the most recent and{'question': 'Who were the winning teams of the last 10 world series?',\n",
      " 'text': '\\n'\n",
      "         'The last ten World Series winners are as follows:\\n'\n",
      "         '\\n'\n",
      "         '2019 - Washington Nationals (National League) defeated Houston '\n",
      "         'Astros (American League)\\n'\n",
      "         '2018 - Boston Red Sox (American League) defeated Los Angeles Dodgers '\n",
      "         '(National League)\\n'\n",
      "         '2017 - Houston Astros (American League) defeated Los Angeles Dodgers '\n",
      "         '(National League)\\n'\n",
      "         '2016 - Chicago Cubs (National League) defeated Cleveland Indians '\n",
      "         '(American League)\\n'\n",
      "         '2015 - Kansas City Royals (American League) defeated New York Mets '\n",
      "         '(National League)\\n'\n",
      "         '2014 - San Francisco Giants (National League) defeated Kansas City '\n",
      "         'Royals (American League)\\n'\n",
      "         '2013 - Boston Red Sox (American League) defeated St. Louis Cardinals '\n",
      "         '(National League)\\n'\n",
      "         '2012 - San Francisco Giants (National League) defeated Detroit '\n",
      "         'Tigers (American League)\\n'\n",
      "         '2011 - St. Louis Cardinals (National League) defeated Texas Rangers '\n",
      "         '(American League)\\n'\n",
      "         '2010 - San Francisco Giants (National League) defeated Texas Rangers '\n",
      "         '(American League)\\n'\n",
      "         '\\n'\n",
      "         'Please note that the years are in reverse order, with 2019 being the '\n",
      "         'most recent and'}\n"
     ]
    }
   ],
   "source": [
    "question = \"Who were the winning teams of the last 10 world series?\"\n",
    "\n",
    "results = llm_chain.invoke(question)\n",
    "\n",
    "pprint(results)"
   ]
  },
  {
   "cell_type": "code",
   "execution_count": 9,
   "metadata": {},
   "outputs": [
    {
     "name": "stdout",
     "output_type": "stream",
     "text": [
      "\n",
      "\n",
      "To achieve this, you can use the following Python code to convert a Pandas DataFrame into a dictionary with the desired structure:\n",
      "\n",
      "```python\n",
      "import pandas as pd\n",
      "from snowflake.connector import connect\n",
      "\n",
      "# Connect to Snowflake and fetch the dataframe\n",
      "conn = connect(account='your_snowflake_account', user='username', password='password')\n",
      "cur = conn.cursor()\n",
      "sql_query = \"SELECT username, email, name, password FROM table_name\"\n",
      "df = pd.read_sql(sql_query, con=conn)\n",
      "```\n",
      "\n",
      "Next, create a dictionary to store the data:\n",
      "\n",
      "```python\n",
      "usernames_dict = {}\n",
      "for index, row in df.iterrows():\n",
      "    email = row['email']\n",
      "    name = row['name']\n",
      "    password = row['password']\n",
      "    \n",
      "    if email not in usernames_dict:\n",
      "        usernames_dict[email] = {\n",
      "            \"email\": email,\n",
      "            \"name\": name,\n",
      "            \"password\": password\n",
      "        }\n",
      "```\n",
      "\n",
      "Finally, convert the dictionary to a JSON-like structure and{'question': '\\n'\n",
      "             '\\n'\n",
      "             'I need help writing a snowflake to python dictionary query.  I '\n",
      "             \"am in a python environment so it's not an issue to use Python \"\n",
      "             'code to manipulate the SQL results.  \\n'\n",
      "             '\\n'\n",
      "             'i start with a snowflake_python connector and fetch a pandas '\n",
      "             'data frame that contains \\n'\n",
      "             '\\n'\n",
      "             'username, email, name, password\\n'\n",
      "             '\\n'\n",
      "             'and the resulting dictionary i need in Python looks like this\\n'\n",
      "             '\\n'\n",
      "             '{\\n'\n",
      "             '  \"usernames\": {\\n'\n",
      "             '    \"asdf@gmail.com\": {\\n'\n",
      "             '      \"email\": \"asdf@gmail.com\",\\n'\n",
      "             '      \"name\": \"Brian\",\\n'\n",
      "             '      \"password\": \"abc\"\\n'\n",
      "             '    },\\n'\n",
      "             '    \"124@gmail.com\": {\\n'\n",
      "             '      \"email\": \"124@gmail.com\",\\n'\n",
      "             '      \"name\": \"Chris\",\\n'\n",
      "             '      \"password\": \"def\"\\n'\n",
      "             '  }\\n'\n",
      "             '}\\n'\n",
      "             '\\n',\n",
      " 'text': '\\n'\n",
      "         '\\n'\n",
      "         'To achieve this, you can use the following Python code to convert a '\n",
      "         'Pandas DataFrame into a dictionary with the desired structure:\\n'\n",
      "         '\\n'\n",
      "         '```python\\n'\n",
      "         'import pandas as pd\\n'\n",
      "         'from snowflake.connector import connect\\n'\n",
      "         '\\n'\n",
      "         '# Connect to Snowflake and fetch the dataframe\\n'\n",
      "         \"conn = connect(account='your_snowflake_account', user='username', \"\n",
      "         \"password='password')\\n\"\n",
      "         'cur = conn.cursor()\\n'\n",
      "         'sql_query = \"SELECT username, email, name, password FROM '\n",
      "         'table_name\"\\n'\n",
      "         'df = pd.read_sql(sql_query, con=conn)\\n'\n",
      "         '```\\n'\n",
      "         '\\n'\n",
      "         'Next, create a dictionary to store the data:\\n'\n",
      "         '\\n'\n",
      "         '```python\\n'\n",
      "         'usernames_dict = {}\\n'\n",
      "         'for index, row in df.iterrows():\\n'\n",
      "         \"    email = row['email']\\n\"\n",
      "         \"    name = row['name']\\n\"\n",
      "         \"    password = row['password']\\n\"\n",
      "         '    \\n'\n",
      "         '    if email not in usernames_dict:\\n'\n",
      "         '        usernames_dict[email] = {\\n'\n",
      "         '            \"email\": email,\\n'\n",
      "         '            \"name\": name,\\n'\n",
      "         '            \"password\": password\\n'\n",
      "         '        }\\n'\n",
      "         '```\\n'\n",
      "         '\\n'\n",
      "         'Finally, convert the dictionary to a JSON-like structure and'}\n"
     ]
    }
   ],
   "source": [
    "question = \"\"\"\n",
    "\n",
    "I need help writing a snowflake to python dictionary query.  I am in a python environment so it's not an issue to use Python code to manipulate the SQL results.  \n",
    "\n",
    "i start with a snowflake_python connector and fetch a pandas data frame that contains \n",
    "\n",
    "username, email, name, password\n",
    "\n",
    "and the resulting dictionary i need in Python looks like this\n",
    "\n",
    "{\n",
    "  \"usernames\": {\n",
    "    \"asdf@gmail.com\": {\n",
    "      \"email\": \"asdf@gmail.com\",\n",
    "      \"name\": \"Brian\",\n",
    "      \"password\": \"abc\"\n",
    "    },\n",
    "    \"124@gmail.com\": {\n",
    "      \"email\": \"124@gmail.com\",\n",
    "      \"name\": \"Chris\",\n",
    "      \"password\": \"def\"\n",
    "  }\n",
    "}\n",
    "\n",
    "\"\"\"\n",
    "\n",
    "results = llm_chain.invoke(question)\n",
    "\n",
    "pprint(results)"
   ]
  },
  {
   "cell_type": "code",
   "execution_count": null,
   "metadata": {},
   "outputs": [],
   "source": []
  }
 ],
 "metadata": {
  "kernelspec": {
   "display_name": "venv",
   "language": "python",
   "name": "python3"
  },
  "language_info": {
   "codemirror_mode": {
    "name": "ipython",
    "version": 3
   },
   "file_extension": ".py",
   "mimetype": "text/x-python",
   "name": "python",
   "nbconvert_exporter": "python",
   "pygments_lexer": "ipython3",
   "version": "3.11.6"
  }
 },
 "nbformat": 4,
 "nbformat_minor": 2
}
