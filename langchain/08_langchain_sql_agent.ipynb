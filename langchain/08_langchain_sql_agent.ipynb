{
 "cells": [
  {
   "cell_type": "code",
   "execution_count": 1,
   "metadata": {},
   "outputs": [],
   "source": [
    "import os\n",
    "from langchain_openai import OpenAI\n",
    "from langchain import SQLDatabase\n",
    "from snowflake.snowpark import Session\n",
    "from langchain.chains import create_sql_query_chain"
   ]
  },
  {
   "cell_type": "code",
   "execution_count": 2,
   "metadata": {},
   "outputs": [],
   "source": [
    "OPENAI_API_KEY = os.environ.get(\"OPENAI_API_KEY\")\n",
    "snowflake_account = os.environ.get(\"SNOW_ACCOUNT\")\n",
    "username = os.environ.get(\"SNOW_USER\")\n",
    "password = os.environ.get(\"SNOW_PASS\")\n",
    "role = \"ENGINEER\"\n",
    "warehouse = \"ENGINEER\"\n",
    "database = \"DEADPOOL\"\n",
    "schema = \"PROD\""
   ]
  },
  {
   "cell_type": "code",
   "execution_count": 3,
   "metadata": {},
   "outputs": [
    {
     "name": "stdout",
     "output_type": "stream",
     "text": [
      "\n",
      "CREATE TABLE picks (\n",
      "\tname VARCHAR(256), \n",
      "\tbirth_date DATE, \n",
      "\tdeath_date DATE, \n",
      "\tage DECIMAL(38, 0), \n",
      "\tpicked_by VARCHAR(256), \n",
      "\twiki_page VARCHAR(256), \n",
      "\tyear DECIMAL(38, 0), \n",
      "\ttimestamp TIMESTAMP_NTZ, \n",
      "\twiki_id VARCHAR(256)\n",
      ")\n",
      "\n",
      "/*\n",
      "1 rows from picks table:\n",
      "name\tbirth_date\tdeath_date\tage\tpicked_by\twiki_page\tyear\ttimestamp\twiki_id\n",
      "Henry Kissinger\t1923-05-27\t2023-11-29\t100\t1831699b-e255-45ff-8671-b5c840922735\tHenry_Kissinger\t2023\tNone\tQ66107\n",
      "*/\n",
      "\n",
      "\n",
      "CREATE TABLE players (\n",
      "\tfirst_name VARCHAR(256), \n",
      "\tlast_name VARCHAR(256), \n",
      "\temail VARCHAR(256), \n",
      "\tyear_one DECIMAL(38, 0), \n",
      "\tyear_two DECIMAL(38, 0), \n",
      "\topt_in BOOLEAN, \n",
      "\tsms VARCHAR(256), \n",
      "\tid VARCHAR(36), \n",
      "\tpassword VARCHAR(256)\n",
      ")\n",
      "\n",
      "/*\n",
      "1 rows from players table:\n",
      "first_name\tlast_name\temail\tyear_one\tyear_two\topt_in\tsms\tid\tpassword\n",
      "Brian\tRoepke\tbroepke@gmail.com\t5\t13\tTrue\t+14155479222\t1831699b-e255-45ff-8671-b5c840922735\t$2b$12$eqnt856tWE.IyIUb5n3kNObd5TV8l69qo5CSJ4iODYyA7W5VCmusK\n",
      "*/\n"
     ]
    }
   ],
   "source": [
    "snowflake_url = f\"snowflake://{username}:{password}@{snowflake_account}/{database}/{schema}?warehouse={warehouse}&role={role}\"\n",
    "\n",
    "db = SQLDatabase.from_uri(snowflake_url,\n",
    "                          sample_rows_in_table_info=1, \n",
    "                          include_tables=['picks','players'])\n",
    "\n",
    "# we can see what information is passed to the LLM regarding the database\n",
    "print(db.table_info)"
   ]
  },
  {
   "cell_type": "code",
   "execution_count": 8,
   "metadata": {},
   "outputs": [],
   "source": [
    "llm = OpenAI(temperature=0, openai_api_key=OPENAI_API_KEY)\n",
    "  \n",
    "database_chain = create_sql_query_chain(llm=llm, db=db, k=20)"
   ]
  },
  {
   "cell_type": "code",
   "execution_count": 9,
   "metadata": {},
   "outputs": [],
   "source": [
    "connection_parameters = {\n",
    "            \"account\": snowflake_account,\n",
    "            \"user\": username,\n",
    "            \"password\": password,\n",
    "            \"role\": role,\n",
    "            \"warehouse\": warehouse,\n",
    "            \"database\": database,\n",
    "            \"schema\": schema\n",
    "\n",
    "        }\n",
    "\n",
    "session = Session.builder.configs(connection_parameters).create()"
   ]
  },
  {
   "cell_type": "code",
   "execution_count": 10,
   "metadata": {},
   "outputs": [
    {
     "name": "stdout",
     "output_type": "stream",
     "text": [
      "SELECT name, birth_date, death_date, age, picked_by, wiki_page, year, timestamp, wiki_id\n",
      "FROM picks\n",
      "WHERE picked_by = '1831699b-e255-45ff-8671-b5c840922735' AND year = 2024\n",
      "LIMIT 20\n",
      "------------------------------------------------------------------------------------------------------------------------------------------------------------------------\n",
      "|\"NAME\"             |\"BIRTH_DATE\"  |\"DEATH_DATE\"  |\"AGE\"  |\"PICKED_BY\"                           |\"WIKI_PAGE\"        |\"YEAR\"  |\"TIMESTAMP\"                 |\"WIKI_ID\"  |\n",
      "------------------------------------------------------------------------------------------------------------------------------------------------------------------------\n",
      "|Yahya Sinwar       |1962-10-29    |NULL          |61     |1831699b-e255-45ff-8671-b5c840922735  |Yahya_Sinwar       |2024    |2024-01-08 16:37:46.716198  |Q22690797  |\n",
      "|Gerhard Schroeder  |1944-04-07    |NULL          |79     |1831699b-e255-45ff-8671-b5c840922735  |Gerhard_Schroeder  |2024    |2024-01-08 18:44:04.855151  |Q2530      |\n",
      "|Dick Cheney        |1941-01-30    |NULL          |83     |1831699b-e255-45ff-8671-b5c840922735  |Dick_Cheney        |2024    |2024-01-08 20:43:44.551548  |Q48259     |\n",
      "|Gene Shalit        |1926-03-25    |NULL          |97     |1831699b-e255-45ff-8671-b5c840922735  |Gene_Shalit        |2024    |2024-01-08 23:38:00.351288  |Q130088    |\n",
      "|Warren Buffet      |1930-08-30    |NULL          |93     |1831699b-e255-45ff-8671-b5c840922735  |Warren_Buffet      |2024    |2024-01-09 01:40:43.077664  |Q47213     |\n",
      "|Kate Micucci       |1980-03-31    |NULL          |43     |1831699b-e255-45ff-8671-b5c840922735  |Kate_Micucci       |2024    |2024-01-09 15:37:04.113539  |Q522856    |\n",
      "|George Soros       |1930-08-12    |NULL          |93     |1831699b-e255-45ff-8671-b5c840922735  |George_Soros       |2024    |2024-01-09 20:11:16.745383  |Q12908     |\n",
      "|Michael Douglass   |1944-09-25    |NULL          |79     |1831699b-e255-45ff-8671-b5c840922735  |Michael_Douglas    |2024    |2024-01-09 22:25:05.945159  |Q119798    |\n",
      "|Buzz Aldrin        |1930-01-20    |NULL          |94     |1831699b-e255-45ff-8671-b5c840922735  |Buzz_Aldrin        |2024    |2024-01-10 02:37:56.920352  |Q2252      |\n",
      "|Bronny James       |2004-10-06    |NULL          |19     |1831699b-e255-45ff-8671-b5c840922735  |Bronny_James       |2024    |2024-01-10 16:21:24.329245  |Q22302425  |\n",
      "------------------------------------------------------------------------------------------------------------------------------------------------------------------------\n",
      "\n"
     ]
    }
   ],
   "source": [
    "prompt = \"Show me how many players we have in the game\"\n",
    "prompt = \"Show me the name of the player that picked Joe Biden in 2024\"\n",
    "prompt = \"Show me a list of all the picks by Brian Roepke for 2024\"\n",
    "\n",
    "sql_query = database_chain.invoke({\"question\": prompt})\n",
    "\n",
    "#we can visualize what sql query is generated by the LLM\n",
    "print(sql_query)\n",
    "\n",
    "session.sql(sql_query).show()"
   ]
  },
  {
   "cell_type": "code",
   "execution_count": null,
   "metadata": {},
   "outputs": [],
   "source": []
  }
 ],
 "metadata": {
  "kernelspec": {
   "display_name": "venv",
   "language": "python",
   "name": "python3"
  },
  "language_info": {
   "codemirror_mode": {
    "name": "ipython",
    "version": 3
   },
   "file_extension": ".py",
   "mimetype": "text/x-python",
   "name": "python",
   "nbconvert_exporter": "python",
   "pygments_lexer": "ipython3",
   "version": "3.11.5"
  }
 },
 "nbformat": 4,
 "nbformat_minor": 2
}
