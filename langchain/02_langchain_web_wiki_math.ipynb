{
 "cells": [
  {
   "cell_type": "markdown",
   "id": "6f172850",
   "metadata": {},
   "source": [
    "# LangChain 🦜 ~ Free Web Search "
   ]
  },
  {
   "cell_type": "markdown",
   "id": "d42bc791",
   "metadata": {},
   "source": [
    "## Objectives : \n",
    "\n",
    "    1. Langchain is bad at maths\n",
    "    ----------------------------\n",
    "    Let's prove it\n",
    "    Let's fix it\n",
    "    \n",
    "    2. SERPAPI needs tokens\n",
    "    -----------------------\n",
    "    We can avoid it\n",
    "    \n",
    "    3. Solve a deprecation warning for LLMMathChain\n",
    "    -----------------------------------------------\n",
    "    New Syntax\n",
    "\n",
    "\n",
    "Code from: https://github.com/RGGH/LangChain_101/blob/main/free_web_search.ipynb"
   ]
  },
  {
   "cell_type": "code",
   "execution_count": 1,
   "id": "4a541949",
   "metadata": {},
   "outputs": [],
   "source": [
    "#!pip install duckduckgo-search\n",
    "#!pip install wikipedia"
   ]
  },
  {
   "cell_type": "markdown",
   "id": "781428a1",
   "metadata": {},
   "source": [
    "### Imports"
   ]
  },
  {
   "cell_type": "code",
   "execution_count": 2,
   "id": "e31e4b47",
   "metadata": {},
   "outputs": [],
   "source": [
    "import os\n",
    "from langchain import hub\n",
    "from langchain_openai import OpenAI\n",
    "from langchain.agents import Tool\n",
    "from langchain.tools import DuckDuckGoSearchRun\n",
    "from langchain.utilities import WikipediaAPIWrapper\n",
    "from langchain.agents import create_react_agent, AgentExecutor"
   ]
  },
  {
   "cell_type": "code",
   "execution_count": 3,
   "id": "63372132",
   "metadata": {},
   "outputs": [],
   "source": [
    "OPENAI_API_KEY = os.environ.get(\"OPENAI_API_KEY\")"
   ]
  },
  {
   "cell_type": "markdown",
   "id": "daab3bc5",
   "metadata": {},
   "source": [
    "### LLM"
   ]
  },
  {
   "cell_type": "code",
   "execution_count": 4,
   "id": "ba2e8850",
   "metadata": {},
   "outputs": [],
   "source": [
    "llm = OpenAI(temperature=0)"
   ]
  },
  {
   "cell_type": "markdown",
   "id": "d9261d35",
   "metadata": {},
   "source": [
    "### Tools"
   ]
  },
  {
   "cell_type": "code",
   "execution_count": 5,
   "id": "13a5f8b1",
   "metadata": {},
   "outputs": [],
   "source": [
    "search = DuckDuckGoSearchRun()\n",
    "wikipedia = WikipediaAPIWrapper()\n",
    "\n",
    "\n",
    "# Web Search Tool\n",
    "search_tool = Tool(\n",
    "    name=\"Web Search\",\n",
    "    func=search.run,\n",
    "    description=\"A useful tool for searching the Internet to find information on world events, years, dates, issues, etc. Worth using for general topics. Use precise questions.\",\n",
    ")\n",
    "\n",
    "# Wikipedia Tool\n",
    "wikipedia_tool = Tool(\n",
    "    name=\"Wikipedia\",\n",
    "    func=wikipedia.run,\n",
    "    description=\"A useful tool for searching the Internet to find information on world events, issues, dates, years, etc. Worth using for general topics. Use precise questions.\",\n",
    ")\n",
    "\n",
    "\n",
    "from langchain import LLMMathChain\n",
    "\n",
    "#llm_math_chain = LLMMathChain(llm=llm, verbose=True) <- Deprecated !!!\n",
    "\n",
    "llm_math_chain = LLMMathChain.from_llm(llm=llm, verbose=True)\n",
    "math_tool = Tool.from_function(\n",
    "        func=llm_math_chain.run,\n",
    "        name=\"Calculator\",\n",
    "        description=\"Useful for when you need to answer questions about math. This tool is only for math questions and nothing else. Only input math expressions.\",\n",
    "    )"
   ]
  },
  {
   "cell_type": "markdown",
   "id": "97f68cb5",
   "metadata": {},
   "source": [
    "### Agent"
   ]
  },
  {
   "cell_type": "code",
   "execution_count": 6,
   "id": "914f5175",
   "metadata": {},
   "outputs": [],
   "source": [
    "prompt = hub.pull(\"hwchase17/react\")"
   ]
  },
  {
   "cell_type": "code",
   "execution_count": 7,
   "id": "0f89948b",
   "metadata": {},
   "outputs": [],
   "source": [
    "agent = create_react_agent(\n",
    "    tools = [search_tool,wikipedia_tool,math_tool],\n",
    "    llm=llm,\n",
    "    prompt=prompt\n",
    ")"
   ]
  },
  {
   "cell_type": "code",
   "execution_count": 8,
   "id": "5a29f004",
   "metadata": {},
   "outputs": [],
   "source": [
    "query = \"search for King Charles III' current age in years and then calculate the cube root of that number to 1 decimal\""
   ]
  },
  {
   "cell_type": "markdown",
   "id": "d1835f75",
   "metadata": {},
   "source": [
    "### Run"
   ]
  },
  {
   "cell_type": "code",
   "execution_count": 9,
   "id": "a24150a2",
   "metadata": {},
   "outputs": [],
   "source": [
    "tools = [search_tool,wikipedia_tool,math_tool]\n",
    "agent_executor = AgentExecutor(agent=agent, tools=tools, verbose=True)"
   ]
  },
  {
   "cell_type": "code",
   "execution_count": 10,
   "id": "7e2a1134",
   "metadata": {},
   "outputs": [
    {
     "name": "stdout",
     "output_type": "stream",
     "text": [
      "\n",
      "\n",
      "\u001b[1m> Entering new AgentExecutor chain...\u001b[0m\n",
      "\u001b[32;1m\u001b[1;3m I should use Wikipedia to find King Charles III's birthdate and then use a calculator to calculate the cube root of his current age.\n",
      "Action: Wikipedia\n",
      "Action Input: King Charles III\u001b[0m\u001b[33;1m\u001b[1;3mPage: Charles III\n",
      "Summary: Charles III (Charles Philip Arthur George; born 14 November 1948) is King of the United Kingdom and the 14 other Commonwealth realms.Charles was born in Buckingham Palace during the reign of his maternal grandfather, King George VI, and became heir apparent when his mother, Queen Elizabeth II, acceded to the throne in 1952. He was created Prince of Wales in 1958 and his investiture was held in 1969. He was educated at Cheam School and Gordonstoun, and later spent six months at the Timbertop campus of Geelong Grammar School in Victoria, Australia. After earning a history degree from the University of Cambridge, Charles served in the Royal Air Force and the Royal Navy from 1971 to 1976. In 1981 he married Lady Diana Spencer. They had two sons, William and Harry. Charles and Diana divorced in 1996, after they had each engaged in well-publicised extramarital affairs. Diana died as a result of injuries sustained in a car crash the following year. In 2005 Charles married his long-term partner, Camilla Parker Bowles.\n",
      "As heir apparent, Charles undertook official duties and engagements on behalf of his mother. He founded the Prince's Trust in 1976, sponsored the Prince's Charities, and became patron or president of more than 800 other charities and organisations. He advocated for the conservation of historic buildings and the importance of architecture in society. In that vein, he generated the experimental new town of Poundbury. An environmentalist, Charles supported organic farming and action to prevent climate change during his time as the manager of the Duchy of Cornwall estates, earning him awards and recognition as well as criticism; he is also a prominent critic of the adoption of genetically modified food, while his support for alternative medicine has been criticised. He has authored or co-authored 17 books.\n",
      "Charles became king upon his mother's death on 8 September 2022. At the age of 73, he became the oldest person to accede to the British throne, after having been the longest-serving heir apparent and Prince of Wales in British history. His coronation took place at Westminster Abbey on 6 May 2023.\n",
      "\n",
      "Page: Coronation of Charles III and Camilla\n",
      "Summary: The coronation of Charles III and his wife, Camilla, as king and queen of the United Kingdom and the other Commonwealth realms, took place on Saturday, 6 May 2023, at Westminster Abbey. Charles acceded to the throne on 8 September 2022 upon the death of his mother, Elizabeth II.\n",
      "The ceremony was structured around an Anglican service of Holy Communion. It included Charles's taking an oath, being anointed with holy oil, and receiving the coronation regalia, emphasising his spiritual role and secular responsibilities. Representatives of the Church of England and the British royal family declared their allegiance to him, and people throughout the Commonwealth realms were invited to do so. Camilla was crowned in a shorter and simpler ceremony. After the service, members of the royal family travelled to Buckingham Palace in a state procession and appeared on the palace's rear and front balconies. The service was altered from past British coronations to represent multiple faiths, cultures, and communities across the United Kingdom; it was shorter than Elizabeth II's coronation in 1953, and had a peak domestic television audience of 20.4 million, making it the most watched television broadcast in the country in 2023.The coronation elicited both celebrations and protest in the United Kingdom, with surveys carried out before the event suggesting that the British public was ambivalent towards the ceremony and its funding by taxpayers. The events in London and Windsor drew large crowds, but were also protested against by republican groups; 64 individuals were arrested on the day, which was criticised by the international advocacy group Human Rights Watch. Other celebrations included street parties, volunteering, special commemorative church services, and a concer\u001b[0m\u001b[32;1m\u001b[1;3m Now that I have his birthdate, I can use a calculator to calculate his current age and then find the cube root of that number.\n",
      "Action: Calculator\n",
      "Action Input: Cube root of (2022-1948)\u001b[0m\n",
      "\n",
      "\u001b[1m> Entering new LLMMathChain chain...\u001b[0m\n",
      "Cube root of (2022-1948)\u001b[32;1m\u001b[1;3m```text\n",
      "(2022-1948)**(1/3)\n",
      "```\n",
      "...numexpr.evaluate(\"(2022-1948)**(1/3)\")...\n",
      "\u001b[0m\n",
      "Answer: \u001b[33;1m\u001b[1;3m4.198336453808407\u001b[0m\n",
      "\u001b[1m> Finished chain.\u001b[0m\n",
      "\u001b[38;5;200m\u001b[1;3mAnswer: 4.198336453808407\u001b[0m\u001b[32;1m\u001b[1;3m I now know the final answer.\n",
      "Final Answer: 4.2\u001b[0m\n",
      "\n",
      "\u001b[1m> Finished chain.\u001b[0m\n"
     ]
    },
    {
     "data": {
      "text/plain": [
       "{'input': \"search for King Charles III' current age in years and then calculate the cube root of that number to 1 decimal\",\n",
       " 'output': '4.2'}"
      ]
     },
     "execution_count": 10,
     "metadata": {},
     "output_type": "execute_result"
    }
   ],
   "source": [
    "agent_executor.invoke(input={\"input\": query})"
   ]
  },
  {
   "cell_type": "code",
   "execution_count": 11,
   "id": "5b91356d",
   "metadata": {},
   "outputs": [
    {
     "data": {
      "text/plain": [
       "73.99999999999997"
      ]
     },
     "execution_count": 11,
     "metadata": {},
     "output_type": "execute_result"
    }
   ],
   "source": [
    "4.198336453808407**3"
   ]
  },
  {
   "cell_type": "code",
   "execution_count": null,
   "id": "c4116e12",
   "metadata": {},
   "outputs": [],
   "source": []
  }
 ],
 "metadata": {
  "kernelspec": {
   "display_name": "Python 3 (ipykernel)",
   "language": "python",
   "name": "python3"
  },
  "language_info": {
   "codemirror_mode": {
    "name": "ipython",
    "version": 3
   },
   "file_extension": ".py",
   "mimetype": "text/x-python",
   "name": "python",
   "nbconvert_exporter": "python",
   "pygments_lexer": "ipython3",
   "version": "3.11.6"
  }
 },
 "nbformat": 4,
 "nbformat_minor": 5
}
