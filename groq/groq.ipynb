{
 "cells": [
  {
   "cell_type": "code",
   "execution_count": 1,
   "metadata": {},
   "outputs": [],
   "source": [
    "import os\n",
    "from groq import Groq"
   ]
  },
  {
   "cell_type": "code",
   "execution_count": 2,
   "metadata": {},
   "outputs": [],
   "source": [
    "client = Groq(\n",
    "    api_key=os.environ.get(\"GROQ_API_KEY\"),\n",
    ")"
   ]
  },
  {
   "cell_type": "code",
   "execution_count": 3,
   "metadata": {},
   "outputs": [
    {
     "name": "stdout",
     "output_type": "stream",
     "text": [
      "Cracklin' fresh! Here are 15 of the best one-liners from the TV show Letterkenny:\n",
      "\n",
      "1. \"I'm not drunk, I'm just... uncoordinatedly drunk.\" - Wayne\n",
      "2. \"You're not a farmer, buddy, you're a hipster farmer.\" - Mandy\n",
      "3. \"You're a lovely human being, but you're a terrible driver.\" - Catherine\n",
      "4. \"I'm a man, I'm not a scientist, but I'm pretty sure I just became one.\" - Jonesy\n",
      "5. \"You're not a punk, you're just a guy with a mohawk.\" - Wayne\n",
      "6. \"I've had to drink my way through this garbage town so long, I'm starting to like it.\" - Wayne\n",
      "7. \"You're not a lumberjack, you're just a guy with a beard.\" - Wayne\n",
      "8. \"It's not a fence, it's a... uh, a... a... things.\" - Jonesy\n",
      "9. \"You're not a hero, buddy. You're just a guy who got trampled by a horse.\" - Wayne\n",
      "10. \"I didn't mean to offend you, buddy. I just meant to describe you accurately.\" - Wayne\n",
      "11. \"This place is like a bad tattoo. It's a mistake that won't go away.\" - Squirrely Dan\n",
      "12. \"If I wanted to listen to some old dude complain about his back, I'd get a colonoscopy.\" - Gae\n",
      "13. \"You're not a hillbilly, you're just a guy from the cities who likes trucks.\" - Wayne\n",
      "14. \"I'm not arguing, I'm just explaining why I'm right. There's a difference.\" - Wayne\n",
      "15. \"I'm not a simple man, I'm a complicated man with simple tastes.\" - Christopher\n",
      "\n",
      "Note: These quotes are a mix of physical releases and transcribed dialogues from various episodes. Please ensure the accuracy of the quotes before sharing or using them in any context. Crackle on!\n"
     ]
    }
   ],
   "source": [
    "\n",
    "chat_completion = client.chat.completions.create(\n",
    "    messages=[\n",
    "        {\n",
    "            \"role\": \"user\",\n",
    "            \"content\": \"Give me 15 of the best one-liners from the TV show Letterkenny\",\n",
    "        }\n",
    "    ],\n",
    "    model=\"llama3-8b-8192\",\n",
    ")\n",
    "\n",
    "print(chat_completion.choices[0].message.content)"
   ]
  },
  {
   "cell_type": "code",
   "execution_count": null,
   "metadata": {},
   "outputs": [],
   "source": []
  }
 ],
 "metadata": {
  "kernelspec": {
   "display_name": "venv",
   "language": "python",
   "name": "python3"
  },
  "language_info": {
   "codemirror_mode": {
    "name": "ipython",
    "version": 3
   },
   "file_extension": ".py",
   "mimetype": "text/x-python",
   "name": "python",
   "nbconvert_exporter": "python",
   "pygments_lexer": "ipython3",
   "version": "3.11.7"
  }
 },
 "nbformat": 4,
 "nbformat_minor": 2
}
